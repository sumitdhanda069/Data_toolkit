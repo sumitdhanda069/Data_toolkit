{
  "nbformat": 4,
  "nbformat_minor": 0,
  "metadata": {
    "colab": {
      "provenance": []
    },
    "kernelspec": {
      "name": "python3",
      "display_name": "Python 3"
    },
    "language_info": {
      "name": "python"
    }
  },
  "cells": [
    {
      "cell_type": "markdown",
      "source": [
        "# **Data Toolkit**"
      ],
      "metadata": {
        "id": "3-KT6SUgmtmH"
      }
    },
    {
      "cell_type": "code",
      "source": [
        "#1 What is NumPy, and why is it widely used in Python\n",
        "\n",
        "# Numpy is a Python library which is used to work with numbers and large lists called arrays and it is very fast and easy for doing maths."
      ],
      "metadata": {
        "id": "7z0XHsr7mx4L"
      },
      "execution_count": 1,
      "outputs": []
    },
    {
      "cell_type": "code",
      "source": [
        "#2 How does broadcasting work in NumPy\n",
        "\n",
        "# Broadcasting in NumPy means small array changes shape to match big array so math can work between them, it works like numpy looks at shapes from the end if one shape is 1\n",
        "# it can stretch to match if shapes don't match and can't stretch it gives error."
      ],
      "metadata": {
        "id": "ubEB2yX9nVYw"
      },
      "execution_count": 2,
      "outputs": []
    },
    {
      "cell_type": "code",
      "source": [
        "#3 What is a Pandas DataFrame\n",
        "\n",
        "# Pandas dataFrame is a table-like structure that allows to store and work with data in rows and columns\n",
        "# we can add, delete, filter, sort and do math on the data easily."
      ],
      "metadata": {
        "id": "SdlkoMRmn-Pc"
      },
      "execution_count": 3,
      "outputs": []
    },
    {
      "cell_type": "code",
      "source": [
        "#4 Explain the use of the groupby() method in Pandas\n",
        "\n",
        "# The groupby method in pandas is used to split data into groups based on values in one or more columns so that we can apply functions like sum mean count to each group separately."
      ],
      "metadata": {
        "id": "5senfscDoW9e"
      },
      "execution_count": 4,
      "outputs": []
    },
    {
      "cell_type": "code",
      "source": [
        "#5 Why is Seaborn preferred for statistical visualizations\n",
        "\n",
        "#  Seaborn is preferred for statistical visualizations because it helps to makes beautiful beautiful and easily readable charts without coding too much and it also has built-in support for complex statistical plots."
      ],
      "metadata": {
        "id": "RafbDjGuozL_"
      },
      "execution_count": 5,
      "outputs": []
    },
    {
      "cell_type": "code",
      "source": [
        "#6 What are the differences between NumPy arrays and Python lists\n",
        "\n",
        "# Numpy arrays are faster they use less memory and they also support advanced maths operations while python lists are slower more flexible and also they don't support element wise math directly."
      ],
      "metadata": {
        "id": "Nj06cYd_pX9g"
      },
      "execution_count": 6,
      "outputs": []
    },
    {
      "cell_type": "code",
      "source": [
        "# 7 What is a heatmap, and when should it be used\n",
        "\n",
        "# heatmap is a data visualization using colors to see values in a table  matrix.... helping to easily spot patterns trends and correlations or outliers and\n",
        "# also is used for comparing data across 2 dimensions or showing things like correlation and confusion matrices."
      ],
      "metadata": {
        "id": "Lw9Z0EmApshJ"
      },
      "execution_count": 7,
      "outputs": []
    },
    {
      "cell_type": "code",
      "source": [
        "# 8 What does the term “vectorized operation” mean in NumPy\n",
        "\n",
        "# In numpy a vectorized operation means doing math on whole arrays at once without using loops and making the code faster...simpler."
      ],
      "metadata": {
        "id": "AoE5xLM0qMDn"
      },
      "execution_count": 8,
      "outputs": []
    },
    {
      "cell_type": "code",
      "source": [
        "# 9 How does Matplotlib differ from Plotly\n",
        "\n",
        "# Matplotlib makes simple pictures like graphs that don’t move but plotly makes graphs that we can click on.. zoom on.. and explore on the screen."
      ],
      "metadata": {
        "id": "RlL53yDfqf6g"
      },
      "execution_count": 9,
      "outputs": []
    },
    {
      "cell_type": "code",
      "source": [
        "# 10 What is the significance of hierarchical indexing in Pandas\n",
        "\n",
        "# Hierarchical indexing meaning that we can have more than one label for rows or columns in a dataframe or series......which creates a multi-level index.\n",
        "# It helps to organize complex data with many categories.....we can group data inside groups easily."
      ],
      "metadata": {
        "id": "4_fpahKarAWU"
      },
      "execution_count": 10,
      "outputs": []
    },
    {
      "cell_type": "code",
      "source": [
        "#11 A What is the role of Seaborn’s pairplot() function)\n",
        "\n",
        "# pairplot function in seaborn helps us to see how different columns (variables) in a dataset relating to each other.... It makes a grid of small plots that shows:\n",
        "# scatterplots between every pair of variables to see relationships and histograms or density plots on the diagonal to see distribution of each variable."
      ],
      "metadata": {
        "id": "pfzyRVs_rUsA"
      },
      "execution_count": 11,
      "outputs": []
    },
    {
      "cell_type": "code",
      "source": [
        "# 12 What is the purpose of the describe() function in Pandas\n",
        "\n",
        "# describe function in pandas give a quick summary of statistics\n",
        "# for numerical columns in a dataframe like count, mean, min, max and quartiles./.... which help to understand the data fastly."
      ],
      "metadata": {
        "id": "QLbkhgpMsB8Q"
      },
      "execution_count": 12,
      "outputs": []
    },
    {
      "cell_type": "code",
      "source": [
        "# 13 Why is handling missing data important in Pandas)\n",
        "\n",
        "# Handling missing data is important because missing values can lead to errors...give wrong results can also\n",
        "# affect analysis accuracy so cleaning and managing them helps to keep data correct and meaningful.."
      ],
      "metadata": {
        "id": "4aQ8ExqDsehO"
      },
      "execution_count": 13,
      "outputs": []
    },
    {
      "cell_type": "code",
      "source": [
        "# 14 What are the benefits of using Plotly for data visualization\n",
        "\n",
        "# plotly is used because it creates beautiful... interactive and.. customizable charts that helps to zoom.,, hover and explore data easily and\n",
        "# works well on web pages and dashboards it supports many types of plots like 3D and maps and are easy to share and incorporate in apps and sites"
      ],
      "metadata": {
        "id": "pL4bsgYgs3RN"
      },
      "execution_count": 14,
      "outputs": []
    },
    {
      "cell_type": "code",
      "source": [
        "# 15 How does NumPy handle multidimensional arrays\n",
        "\n",
        "# numpy handles multidimensional arrays by using special ndarray object which stores data in grids with any number of dimensions\n",
        "# that allows fast math and easy access to elements using their positions."
      ],
      "metadata": {
        "id": "jc1hGnR4tpVX"
      },
      "execution_count": 15,
      "outputs": []
    },
    {
      "cell_type": "code",
      "source": [
        "# 16 What is the role of Bokeh in data visualization)\n",
        "\n",
        "# Bokeh is a python library which is used to make interactive and beautiful visualizations that can we can view in a web browser\n",
        "# it helps to create charts, plots.. dashboards that users can zoom or pan..or hover over to see details."
      ],
      "metadata": {
        "id": "8-54HUmmuBjl"
      },
      "execution_count": 16,
      "outputs": []
    },
    {
      "cell_type": "code",
      "source": [
        "# 17 Explain the difference between apply() and map() in Pandas\n",
        "\n",
        "# map() is used on a single column ...Series to replace or transform values using a dictionary, function or Series\n",
        "# on other hand apply() works on whole dataframe or series and help to run a function on each element, row or column for more flexible operations."
      ],
      "metadata": {
        "id": "KiCdfjb2uekQ"
      },
      "execution_count": 17,
      "outputs": []
    },
    {
      "cell_type": "code",
      "source": [
        "# 18 What are some advanced features of NumPy)\n",
        "\n",
        "# Broadcasting...helps to do math with arrays different shapes easy\n",
        "# vectorized operations: fast math no need loop\n",
        "# Fancy indexing: picks elements with list of places or condition\n",
        "# structured array: keeps many type data in one array\n",
        "# Linear algebra functions: does matrix math like multiply etc\n",
        "# random number generation: makes random numbers from many kinds\n",
        "# etcccc..."
      ],
      "metadata": {
        "id": "skwnHUHDu6Ri"
      },
      "execution_count": 18,
      "outputs": []
    },
    {
      "cell_type": "code",
      "source": [
        "# 19 How does Pandas simplify time series analysis\n",
        "\n",
        "# pandas simplifies time series analysis by providing tools to handle dates times.... intervals\n",
        "# which heolps to resample, shift and roll data and quickly do statistics over time periods."
      ],
      "metadata": {
        "id": "AAqC7dQLv9bu"
      },
      "execution_count": 19,
      "outputs": []
    },
    {
      "cell_type": "code",
      "source": [
        "# 20 What is the role of a pivot table in Pandas\n",
        "\n",
        "# role of a pivot table is to summarize and reshape data by grouping it based on one or more columns\n",
        "# allowing to calculate aggregate like sums or averages and display the results in a table format."
      ],
      "metadata": {
        "id": "jnnAa79PwTxe"
      },
      "execution_count": 20,
      "outputs": []
    },
    {
      "cell_type": "code",
      "source": [
        "# 21 Why is NumPy’s array slicing faster than Python’s list slicing\n",
        "\n",
        "# Numpy’s array slicing is faster than python’s list slicing because numpy slices view the same data in memory without copying\n",
        "# on other hand list slicing creates a new list by copying elements which makes numpy more efficient."
      ],
      "metadata": {
        "id": "J_bdUbaawkRB"
      },
      "execution_count": 21,
      "outputs": []
    },
    {
      "cell_type": "code",
      "source": [
        "# 22 What are some common use cases for Seaborn?\n",
        "\n",
        "# seaborn is used for tasks like plotting distributions with histograms or KDES or to show relationships with scatter or regression plot and can be used to compare categories\n",
        "# using bar or violin plots and can be used for drawing heatmaps for correlation matrices or\n",
        "# creating pairwise plots using pairplot() and automatically adding statistical info like confidence intervals\n",
        "# also it's built on Matplotlib which helps to make it powerful and easy with less coding and better styling that comes default."
      ],
      "metadata": {
        "id": "9y0xeV8C2BSS"
      },
      "execution_count": 23,
      "outputs": []
    },
    {
      "cell_type": "markdown",
      "source": [
        "# **Practical**"
      ],
      "metadata": {
        "id": "rmdZGBO726yx"
      }
    },
    {
      "cell_type": "code",
      "source": [
        "# 1 How do you create a 2D NumPy array and calculate the sum of each row\n",
        "\n",
        "import numpy as np\n",
        "\n",
        "arr = np.array([[2, 3, 7],\n",
        "                [5, 3, 4],\n",
        "                [5, 90, 2]])\n",
        "sum_row = np.sum(arr, axis=1)\n",
        "print(sum_row)"
      ],
      "metadata": {
        "colab": {
          "base_uri": "https://localhost:8080/"
        },
        "id": "Xj0iKpL428Vs",
        "outputId": "74c49e25-3810-4d90-a71d-43cc0cbaf929"
      },
      "execution_count": 25,
      "outputs": [
        {
          "output_type": "stream",
          "name": "stdout",
          "text": [
            "[12 12 97]\n"
          ]
        }
      ]
    },
    {
      "cell_type": "code",
      "source": [
        "# 2 Write a Pandas script to find the mean of a specific column in a DataFrame\n",
        "\n",
        "import pandas as pd\n",
        "\n",
        "data = {\n",
        "    'Name': ['srk', 'salman', 'aamir'],\n",
        "    'Age': [54, 55, 58]\n",
        "}\n",
        "datafm = pd.DataFrame(data)\n",
        "mean_age = datafm['Age'].mean()\n",
        "\n",
        "print(\"mean age of them is\", mean_age)"
      ],
      "metadata": {
        "colab": {
          "base_uri": "https://localhost:8080/"
        },
        "id": "-mtsKiL73PMO",
        "outputId": "fa4592f9-c610-49ed-ae79-4da446f5ccae"
      },
      "execution_count": 27,
      "outputs": [
        {
          "output_type": "stream",
          "name": "stdout",
          "text": [
            "mean age of them is 55.666666666666664\n"
          ]
        }
      ]
    },
    {
      "cell_type": "code",
      "source": [
        "#3 Create a scatter plot using Matplotlib\n",
        "\n",
        "import matplotlib.pyplot as plt\n",
        "x = [2, 4, 6, 8, 20]\n",
        "y = [5, 4, 3, 2, 1]\n",
        "\n",
        "plt.scatter(x, y)\n",
        "\n",
        "plt.xlabel('x axis')\n",
        "plt.ylabel('y axis')\n",
        "plt.title('smple scatterplot')\n",
        "\n",
        "plt.show()"
      ],
      "metadata": {
        "colab": {
          "base_uri": "https://localhost:8080/",
          "height": 472
        },
        "id": "Yswa32bf3xIB",
        "outputId": "17aab9b9-23fe-47b9-ce0e-68010e0f7787"
      },
      "execution_count": 29,
      "outputs": [
        {
          "output_type": "display_data",
          "data": {
            "text/plain": [
              "<Figure size 640x480 with 1 Axes>"
            ],
            "image/png": "[encoded data removed]"
          },
          "metadata": {}
        }
      ]
    },
    {
      "cell_type": "code",
      "source": [
        "#4 How do you calculate the correlation matrix using Seaborn and visualize it with a heatmap)\n",
        "\n",
        "import pandas as pd\n",
        "import seaborn as sns\n",
        "import matplotlib.pyplot as plt\n",
        "# i am using for subjects\n",
        "\n",
        "data = {\n",
        "    'maths': [90, 85, 78, 92, 88],\n",
        "    'science': [88, 82, 79, 94, 90],\n",
        "    'english': [70, 75, 80, 72, 68]\n",
        "}\n",
        "\n",
        "datafm = pd.DataFrame(data)\n",
        "\n",
        "corr_matrix = datafm.corr()\n",
        "\n",
        "sns.heatmap(corr_matrix, annot=True, cmap='coolwarm')\n",
        "\n",
        "plt.title(\"corelation matrix heatmap shown heree\")\n",
        "plt.show()"
      ],
      "metadata": {
        "colab": {
          "base_uri": "https://localhost:8080/",
          "height": 452
        },
        "id": "x2Dsdqsc4AuT",
        "outputId": "53ee746f-f907-4269-8798-3c1e41a03eac"
      },
      "execution_count": 31,
      "outputs": [
        {
          "output_type": "display_data",
          "data": {
            "text/plain": [
              "<Figure size 640x480 with 2 Axes>"
            ],
            "image/png": "[encoded data removed]"
          },
          "metadata": {}
        }
      ]
    },
    {
      "cell_type": "code",
      "source": [
        "#5 Generate a bar plot using Plotly\n",
        "import plotly.express as px\n",
        "\n",
        "data = {\n",
        "    'superstar': ['salman bhaijaan', 'baadshah srk', 'aamir perfect'],\n",
        "    'income': [60, 55, 70]}\n",
        "\n",
        "fig = px.bar(data, x='superstar', y='income', title='superstar income in cr bar plot')\n",
        "\n",
        "fig.show()"
      ],
      "metadata": {
        "colab": {
          "base_uri": "https://localhost:8080/",
          "height": 542
        },
        "id": "aSby7iUt4d8N",
        "outputId": "83d63dfa-8f31-4498-d0b7-c72b3025367e"
      },
      "execution_count": 33,
      "outputs": [
        {
          "output_type": "display_data",
          "data": {
            "text/html": [
              "<html>\n",
              "<head><meta charset=\"utf-8\" /></head>\n",
              "<body>\n",
              "    <div>            <script src=\"https://cdnjs.cloudflare.com/ajax/libs/mathjax/2.7.5/MathJax.js?config=TeX-AMS-MML_SVG\"></script><script type=\"text/javascript\">if (window.MathJax && window.MathJax.Hub && window.MathJax.Hub.Config) {window.MathJax.Hub.Config({SVG: {font: \"STIX-Web\"}});}</script>                <script type=\"text/javascript\">window.PlotlyConfig = {MathJaxConfig: 'local'};</script>\n",
              "        <script charset=\"utf-8\" src=\"https://cdn.plot.ly/plotly-2.35.2.min.js\"></script>                <div id=\"2b6011bd-65c1-44f7-b8b5-cefffa6006d2\" class=\"plotly-graph-div\" style=\"height:525px; width:100%;\"></div>            <script type=\"text/javascript\">                                    window.PLOTLYENV=window.PLOTLYENV || {};                                    if (document.getElementById(\"2b6011bd-65c1-44f7-b8b5-cefffa6006d2\")) {                    Plotly.newPlot(                        \"2b6011bd-65c1-44f7-b8b5-cefffa6006d2\",                        [{\"alignmentgroup\":\"True\",\"hovertemplate\":\"superstar=%{x}\\u003cbr\\u003eincome=%{y}\\u003cextra\\u003e\\u003c\\u002fextra\\u003e\",\"legendgroup\":\"\",\"marker\":{\"color\":\"#636efa\",\"pattern\":{\"shape\":\"\"}},\"name\":\"\",\"offsetgroup\":\"\",\"orientation\":\"v\",\"showlegend\":false,\"textposition\":\"auto\",\"x\":[\"salman bhaijaan\",\"baadshah srk\",\"aamir perfect\"],\"xaxis\":\"x\",\"y\":[60,55,70],\"yaxis\":\"y\",\"type\":\"bar\"}],                        {\"template\":{\"data\":{\"histogram2dcontour\":[{\"type\":\"histogram2dcontour\",\"colorbar\":{\"outlinewidth\":0,\"ticks\":\"\"},\"colorscale\":[[0.0,\"#0d0887\"],[0.1111111111111111,\"#46039f\"],[0.2222222222222222,\"#7201a8\"],[0.3333333333333333,\"#9c179e\"],[0.4444444444444444,\"#bd3786\"],[0.5555555555555556,\"#d8576b\"],[0.6666666666666666,\"#ed7953\"],[0.7777777777777778,\"#fb9f3a\"],[0.8888888888888888,\"#fdca26\"],[1.0,\"#f0f921\"]]}],\"choropleth\":[{\"type\":\"choropleth\",\"colorbar\":{\"outlinewidth\":0,\"ticks\":\"\"}}],\"histogram2d\":[{\"type\":\"histogram2d\",\"colorbar\":{\"outlinewidth\":0,\"ticks\":\"\"},\"colorscale\":[[0.0,\"#0d0887\"],[0.1111111111111111,\"#46039f\"],[0.2222222222222222,\"#7201a8\"],[0.3333333333333333,\"#9c179e\"],[0.4444444444444444,\"#bd3786\"],[0.5555555555555556,\"#d8576b\"],[0.6666666666666666,\"#ed7953\"],[0.7777777777777778,\"#fb9f3a\"],[0.8888888888888888,\"#fdca26\"],[1.0,\"#f0f921\"]]}],\"heatmap\":[{\"type\":\"heatmap\",\"colorbar\":{\"outlinewidth\":0,\"ticks\":\"\"},\"colorscale\":[[0.0,\"#0d0887\"],[0.1111111111111111,\"#46039f\"],[0.2222222222222222,\"#7201a8\"],[0.3333333333333333,\"#9c179e\"],[0.4444444444444444,\"#bd3786\"],[0.5555555555555556,\"#d8576b\"],[0.6666666666666666,\"#ed7953\"],[0.7777777777777778,\"#fb9f3a\"],[0.8888888888888888,\"#fdca26\"],[1.0,\"#f0f921\"]]}],\"heatmapgl\":[{\"type\":\"heatmapgl\",\"colorbar\":{\"outlinewidth\":0,\"ticks\":\"\"},\"colorscale\":[[0.0,\"#0d0887\"],[0.1111111111111111,\"#46039f\"],[0.2222222222222222,\"#7201a8\"],[0.3333333333333333,\"#9c179e\"],[0.4444444444444444,\"#bd3786\"],[0.5555555555555556,\"#d8576b\"],[0.6666666666666666,\"#ed7953\"],[0.7777777777777778,\"#fb9f3a\"],[0.8888888888888888,\"#fdca26\"],[1.0,\"#f0f921\"]]}],\"contourcarpet\":[{\"type\":\"contourcarpet\",\"colorbar\":{\"outlinewidth\":0,\"ticks\":\"\"}}],\"contour\":[{\"type\":\"contour\",\"colorbar\":{\"outlinewidth\":0,\"ticks\":\"\"},\"colorscale\":[[0.0,\"#0d0887\"],[0.1111111111111111,\"#46039f\"],[0.2222222222222222,\"#7201a8\"],[0.3333333333333333,\"#9c179e\"],[0.4444444444444444,\"#bd3786\"],[0.5555555555555556,\"#d8576b\"],[0.6666666666666666,\"#ed7953\"],[0.7777777777777778,\"#fb9f3a\"],[0.8888888888888888,\"#fdca26\"],[1.0,\"#f0f921\"]]}],\"surface\":[{\"type\":\"surface\",\"colorbar\":{\"outlinewidth\":0,\"ticks\":\"\"},\"colorscale\":[[0.0,\"#0d0887\"],[0.1111111111111111,\"#46039f\"],[0.2222222222222222,\"#7201a8\"],[0.3333333333333333,\"#9c179e\"],[0.4444444444444444,\"#bd3786\"],[0.5555555555555556,\"#d8576b\"],[0.6666666666666666,\"#ed7953\"],[0.7777777777777778,\"#fb9f3a\"],[0.8888888888888888,\"#fdca26\"],[1.0,\"#f0f921\"]]}],\"mesh3d\":[{\"type\":\"mesh3d\",\"colorbar\":{\"outlinewidth\":0,\"ticks\":\"\"}}],\"scatter\":[{\"fillpattern\":{\"fillmode\":\"overlay\",\"size\":10,\"solidity\":0.2},\"type\":\"scatter\"}],\"parcoords\":[{\"type\":\"parcoords\",\"line\":{\"colorbar\":{\"outlinewidth\":0,\"ticks\":\"\"}}}],\"scatterpolargl\":[{\"type\":\"scatterpolargl\",\"marker\":{\"colorbar\":{\"outlinewidth\":0,\"ticks\":\"\"}}}],\"bar\":[{\"error_x\":{\"color\":\"#2a3f5f\"},\"error_y\":{\"color\":\"#2a3f5f\"},\"marker\":{\"line\":{\"color\":\"#E5ECF6\",\"width\":0.5},\"pattern\":{\"fillmode\":\"overlay\",\"size\":10,\"solidity\":0.2}},\"type\":\"bar\"}],\"scattergeo\":[{\"type\":\"scattergeo\",\"marker\":{\"colorbar\":{\"outlinewidth\":0,\"ticks\":\"\"}}}],\"scatterpolar\":[{\"type\":\"scatterpolar\",\"marker\":{\"colorbar\":{\"outlinewidth\":0,\"ticks\":\"\"}}}],\"histogram\":[{\"marker\":{\"pattern\":{\"fillmode\":\"overlay\",\"size\":10,\"solidity\":0.2}},\"type\":\"histogram\"}],\"scattergl\":[{\"type\":\"scattergl\",\"marker\":{\"colorbar\":{\"outlinewidth\":0,\"ticks\":\"\"}}}],\"scatter3d\":[{\"type\":\"scatter3d\",\"line\":{\"colorbar\":{\"outlinewidth\":0,\"ticks\":\"\"}},\"marker\":{\"colorbar\":{\"outlinewidth\":0,\"ticks\":\"\"}}}],\"scattermapbox\":[{\"type\":\"scattermapbox\",\"marker\":{\"colorbar\":{\"outlinewidth\":0,\"ticks\":\"\"}}}],\"scatterternary\":[{\"type\":\"scatterternary\",\"marker\":{\"colorbar\":{\"outlinewidth\":0,\"ticks\":\"\"}}}],\"scattercarpet\":[{\"type\":\"scattercarpet\",\"marker\":{\"colorbar\":{\"outlinewidth\":0,\"ticks\":\"\"}}}],\"carpet\":[{\"aaxis\":{\"endlinecolor\":\"#2a3f5f\",\"gridcolor\":\"white\",\"linecolor\":\"white\",\"minorgridcolor\":\"white\",\"startlinecolor\":\"#2a3f5f\"},\"baxis\":{\"endlinecolor\":\"#2a3f5f\",\"gridcolor\":\"white\",\"linecolor\":\"white\",\"minorgridcolor\":\"white\",\"startlinecolor\":\"#2a3f5f\"},\"type\":\"carpet\"}],\"table\":[{\"cells\":{\"fill\":{\"color\":\"#EBF0F8\"},\"line\":{\"color\":\"white\"}},\"header\":{\"fill\":{\"color\":\"#C8D4E3\"},\"line\":{\"color\":\"white\"}},\"type\":\"table\"}],\"barpolar\":[{\"marker\":{\"line\":{\"color\":\"#E5ECF6\",\"width\":0.5},\"pattern\":{\"fillmode\":\"overlay\",\"size\":10,\"solidity\":0.2}},\"type\":\"barpolar\"}],\"pie\":[{\"automargin\":true,\"type\":\"pie\"}]},\"layout\":{\"autotypenumbers\":\"strict\",\"colorway\":[\"#636efa\",\"#EF553B\",\"#00cc96\",\"#ab63fa\",\"#FFA15A\",\"#19d3f3\",\"#FF6692\",\"#B6E880\",\"#FF97FF\",\"#FECB52\"],\"font\":{\"color\":\"#2a3f5f\"},\"hovermode\":\"closest\",\"hoverlabel\":{\"align\":\"left\"},\"paper_bgcolor\":\"white\",\"plot_bgcolor\":\"#E5ECF6\",\"polar\":{\"bgcolor\":\"#E5ECF6\",\"angularaxis\":{\"gridcolor\":\"white\",\"linecolor\":\"white\",\"ticks\":\"\"},\"radialaxis\":{\"gridcolor\":\"white\",\"linecolor\":\"white\",\"ticks\":\"\"}},\"ternary\":{\"bgcolor\":\"#E5ECF6\",\"aaxis\":{\"gridcolor\":\"white\",\"linecolor\":\"white\",\"ticks\":\"\"},\"baxis\":{\"gridcolor\":\"white\",\"linecolor\":\"white\",\"ticks\":\"\"},\"caxis\":{\"gridcolor\":\"white\",\"linecolor\":\"white\",\"ticks\":\"\"}},\"coloraxis\":{\"colorbar\":{\"outlinewidth\":0,\"ticks\":\"\"}},\"colorscale\":{\"sequential\":[[0.0,\"#0d0887\"],[0.1111111111111111,\"#46039f\"],[0.2222222222222222,\"#7201a8\"],[0.3333333333333333,\"#9c179e\"],[0.4444444444444444,\"#bd3786\"],[0.5555555555555556,\"#d8576b\"],[0.6666666666666666,\"#ed7953\"],[0.7777777777777778,\"#fb9f3a\"],[0.8888888888888888,\"#fdca26\"],[1.0,\"#f0f921\"]],\"sequentialminus\":[[0.0,\"#0d0887\"],[0.1111111111111111,\"#46039f\"],[0.2222222222222222,\"#7201a8\"],[0.3333333333333333,\"#9c179e\"],[0.4444444444444444,\"#bd3786\"],[0.5555555555555556,\"#d8576b\"],[0.6666666666666666,\"#ed7953\"],[0.7777777777777778,\"#fb9f3a\"],[0.8888888888888888,\"#fdca26\"],[1.0,\"#f0f921\"]],\"diverging\":[[0,\"#8e0152\"],[0.1,\"#c51b7d\"],[0.2,\"#de77ae\"],[0.3,\"#f1b6da\"],[0.4,\"#fde0ef\"],[0.5,\"#f7f7f7\"],[0.6,\"#e6f5d0\"],[0.7,\"#b8e186\"],[0.8,\"#7fbc41\"],[0.9,\"#4d9221\"],[1,\"#276419\"]]},\"xaxis\":{\"gridcolor\":\"white\",\"linecolor\":\"white\",\"ticks\":\"\",\"title\":{\"standoff\":15},\"zerolinecolor\":\"white\",\"automargin\":true,\"zerolinewidth\":2},\"yaxis\":{\"gridcolor\":\"white\",\"linecolor\":\"white\",\"ticks\":\"\",\"title\":{\"standoff\":15},\"zerolinecolor\":\"white\",\"automargin\":true,\"zerolinewidth\":2},\"scene\":{\"xaxis\":{\"backgroundcolor\":\"#E5ECF6\",\"gridcolor\":\"white\",\"linecolor\":\"white\",\"showbackground\":true,\"ticks\":\"\",\"zerolinecolor\":\"white\",\"gridwidth\":2},\"yaxis\":{\"backgroundcolor\":\"#E5ECF6\",\"gridcolor\":\"white\",\"linecolor\":\"white\",\"showbackground\":true,\"ticks\":\"\",\"zerolinecolor\":\"white\",\"gridwidth\":2},\"zaxis\":{\"backgroundcolor\":\"#E5ECF6\",\"gridcolor\":\"white\",\"linecolor\":\"white\",\"showbackground\":true,\"ticks\":\"\",\"zerolinecolor\":\"white\",\"gridwidth\":2}},\"shapedefaults\":{\"line\":{\"color\":\"#2a3f5f\"}},\"annotationdefaults\":{\"arrowcolor\":\"#2a3f5f\",\"arrowhead\":0,\"arrowwidth\":1},\"geo\":{\"bgcolor\":\"white\",\"landcolor\":\"#E5ECF6\",\"subunitcolor\":\"white\",\"showland\":true,\"showlakes\":true,\"lakecolor\":\"white\"},\"title\":{\"x\":0.05},\"mapbox\":{\"style\":\"light\"}}},\"xaxis\":{\"anchor\":\"y\",\"domain\":[0.0,1.0],\"title\":{\"text\":\"superstar\"}},\"yaxis\":{\"anchor\":\"x\",\"domain\":[0.0,1.0],\"title\":{\"text\":\"income\"}},\"legend\":{\"tracegroupgap\":0},\"title\":{\"text\":\"superstar income in cr bar plot\"},\"barmode\":\"relative\"},                        {\"responsive\": true}                    ).then(function(){\n",
              "                            \n",
              "var gd = document.getElementById('2b6011bd-65c1-44f7-b8b5-cefffa6006d2');\n",
              "var x = new MutationObserver(function (mutations, observer) {{\n",
              "        var display = window.getComputedStyle(gd).display;\n",
              "        if (!display || display === 'none') {{\n",
              "            console.log([gd, 'removed!']);\n",
              "            Plotly.purge(gd);\n",
              "            observer.disconnect();\n",
              "        }}\n",
              "}});\n",
              "\n",
              "// Listen for the removal of the full notebook cells\n",
              "var notebookContainer = gd.closest('#notebook-container');\n",
              "if (notebookContainer) {{\n",
              "    x.observe(notebookContainer, {childList: true});\n",
              "}}\n",
              "\n",
              "// Listen for the clearing of the current output cell\n",
              "var outputEl = gd.closest('.output');\n",
              "if (outputEl) {{\n",
              "    x.observe(outputEl, {childList: true});\n",
              "}}\n",
              "\n",
              "                        })                };                            </script>        </div>\n",
              "</body>\n",
              "</html>"
            ]
          },
          "metadata": {}
        }
      ]
    },
    {
      "cell_type": "code",
      "source": [
        "#6 Create a DataFrame and add a new column based on an existing column\n",
        "\n",
        "import pandas as pd\n",
        "\n",
        "data = {\n",
        "    'name': ['ram', 'shyam', 'laxman'],\n",
        "    'marks': [84, 56, 97]\n",
        "}\n",
        "\n",
        "datafm = pd.DataFrame(data)\n",
        "\n",
        "datafm['result'] = datafm['marks'].apply(lambda x: 'passed' if x >= 75 else 'fail')\n",
        "print(datafm)"
      ],
      "metadata": {
        "colab": {
          "base_uri": "https://localhost:8080/"
        },
        "id": "5ZdhQRM15DB8",
        "outputId": "622e46e0-8604-44ba-980d-3cbab90e1c5d"
      },
      "execution_count": 36,
      "outputs": [
        {
          "output_type": "stream",
          "name": "stdout",
          "text": [
            "     name  marks  result\n",
            "0     ram     84  passed\n",
            "1   shyam     56    fail\n",
            "2  laxman     97  passed\n"
          ]
        }
      ]
    },
    {
      "cell_type": "code",
      "source": [
        "#7 Write a program to perform element-wise multiplication of two NumPy arrays\n",
        "import numpy as np\n",
        "\n",
        "array1 = np.array([1, 6, 12])\n",
        "array2 = np.array([7, 7, 9])\n",
        "\n",
        "result = array1 * array2\n",
        "\n",
        "print(result)"
      ],
      "metadata": {
        "colab": {
          "base_uri": "https://localhost:8080/"
        },
        "id": "49vKNMAM-5QD",
        "outputId": "3eb4c72b-4aad-4c2f-a05f-6439ecfb3001"
      },
      "execution_count": 41,
      "outputs": [
        {
          "output_type": "stream",
          "name": "stdout",
          "text": [
            "[  7  42 108]\n"
          ]
        }
      ]
    },
    {
      "cell_type": "code",
      "source": [
        "#8 Create a line plot with multiple lines using Matplotlib\n",
        "\n",
        "import matplotlib.pyplot as plt\n",
        "\n",
        "x = [1, 2, 3, 4, 5]\n",
        "y1 = [2, 3, 5, 7, 11]\n",
        "y2 = [1, 4, 6, 8, 10]\n",
        "\n",
        "plt.plot(x, y1, label='line1')\n",
        "plt.plot(x, y2, label='line2')\n",
        "\n",
        "plt.xlabel('x axis')\n",
        "plt.ylabel('y axis')\n",
        "plt.title('multiple line...plot')\n",
        "\n",
        "plt.legend()\n",
        "\n",
        "plt.show()\n"
      ],
      "metadata": {
        "colab": {
          "base_uri": "https://localhost:8080/",
          "height": 472
        },
        "id": "2CeQmveO_blS",
        "outputId": "ce431d17-a5f8-48a6-dc8c-de157fe54bc9"
      },
      "execution_count": 44,
      "outputs": [
        {
          "output_type": "display_data",
          "data": {
            "text/plain": [
              "<Figure size 640x480 with 1 Axes>"
            ],
            "image/png": "[encoded data removed]"
          },
          "metadata": {}
        }
      ]
    },
    {
      "cell_type": "code",
      "source": [
        "#9 Generate a Pandas DataFrame and filter rows where a column value is greater than a threshold\n",
        "import pandas as pd\n",
        "\n",
        "data = {\n",
        "    'onesample': [10, 20, 30, 40, 50],\n",
        "    'secondsample': [5, 15, 25, 35, 45]\n",
        "}\n",
        "dframe = pd.DataFrame(data)\n",
        "threshold = 25\n",
        "filtered_df = dframe[dframe['onesample'] > threshold]\n",
        "\n",
        "print(filtered_df)"
      ],
      "metadata": {
        "colab": {
          "base_uri": "https://localhost:8080/"
        },
        "id": "opfqWnpD_1-H",
        "outputId": "be054e1f-8ef7-4b21-c053-28d8bf2827e4"
      },
      "execution_count": 47,
      "outputs": [
        {
          "output_type": "stream",
          "name": "stdout",
          "text": [
            "   onesample  secondsample\n",
            "2         30            25\n",
            "3         40            35\n",
            "4         50            45\n"
          ]
        }
      ]
    },
    {
      "cell_type": "code",
      "source": [
        "#10 Create a histogram using Seaborn to visualize a distribution\n",
        "\n",
        "import seaborn as sns\n",
        "import matplotlib.pyplot as plt\n",
        "import numpy as np\n",
        "\n",
        "data = np.random.randn(1000)\n",
        "sns.histplot(data, bins=30, kde=False)\n",
        "\n",
        "plt.title('histogram of normal distributted data')\n",
        "plt.xlabel('y..axis')\n",
        "plt.ylabel('x..axis')\n",
        "\n",
        "plt.show()"
      ],
      "metadata": {
        "colab": {
          "base_uri": "https://localhost:8080/",
          "height": 472
        },
        "id": "zVD5mrQ8AWaJ",
        "outputId": "371f93de-f433-4ac5-8824-6a4c898b0dde"
      },
      "execution_count": 52,
      "outputs": [
        {
          "output_type": "display_data",
          "data": {
            "text/plain": [
              "<Figure size 640x480 with 1 Axes>"
            ],
            "image/png": "[encoded data removed]"
          },
          "metadata": {}
        }
      ]
    },
    {
      "cell_type": "code",
      "source": [
        "#11 Perform matrix multiplication using NumPy\n",
        "\n",
        "import numpy as np\n",
        "\n",
        "matrix1 = np.array([[1, 2],\n",
        "              [3, 4]])\n",
        "\n",
        "matrix2 = np.array([[5, 6],\n",
        "              [7, 8]])\n",
        "\n",
        "multiplication_of_two= np.dot(matrix1, matrix2)\n",
        "\n",
        "print(multiplication_of_two)"
      ],
      "metadata": {
        "colab": {
          "base_uri": "https://localhost:8080/"
        },
        "id": "Ced1ws_QA668",
        "outputId": "4096dce0-b213-41a6-e82e-1844f8c395bc"
      },
      "execution_count": 56,
      "outputs": [
        {
          "output_type": "stream",
          "name": "stdout",
          "text": [
            "[[19 22]\n",
            " [43 50]]\n"
          ]
        }
      ]
    },
    {
      "cell_type": "code",
      "source": [
        "#12 Use Pandas to load a CSV file and display its first 5 rows\n",
        "\n",
        "import pandas as pd\n",
        "\n",
        "data = {\n",
        "    'name': ['ram', 'shyam', 'rajesh', 'charlie', 'srk'],\n",
        "    'age': [25, 34, 45, 60, 36],\n",
        "    'location': ['delhi', 'mumbao', 'chiina', 'london', 'lucknow']\n",
        "}\n",
        "dfame = pd.DataFrame(data)\n",
        "\n",
        "csv_filename = 'my_file.csv'\n",
        "dfame.to_csv(csv_filename, index=False)\n",
        "\n",
        "loaded_df = pd.read_csv(csv_filename)\n",
        "\n",
        "print(loaded_df.head())"
      ],
      "metadata": {
        "colab": {
          "base_uri": "https://localhost:8080/"
        },
        "id": "2uON5AvGBevG",
        "outputId": "1c8e2b26-0d2a-4d7d-9796-417a111f5bb1"
      },
      "execution_count": 59,
      "outputs": [
        {
          "output_type": "stream",
          "name": "stdout",
          "text": [
            "      name  age location\n",
            "0      ram   25    delhi\n",
            "1    shyam   34   mumbao\n",
            "2   rajesh   45   chiina\n",
            "3  charlie   60   london\n",
            "4      srk   36  lucknow\n"
          ]
        }
      ]
    },
    {
      "cell_type": "code",
      "source": [
        "#13 Create a 3D scatter plot using Plotly\n",
        "\n",
        "import plotly.express as px\n",
        "import pandas as pd\n",
        "import numpy as np\n",
        "\n",
        "np.random.seed(42)\n",
        "df = pd.DataFrame({'x': np.random.randn(100),\n",
        "    'y': np.random.randn(100),\n",
        "    'z': np.random.randn(100),\n",
        "    'color': np.random.choice(['A', 'B', 'C'], size=100)})\n",
        "\n",
        "fig = px.scatter_3d(df, x='x', y='y', z='z', color='color',\n",
        "                    title='3d scatter plot with plotly')\n",
        "fig.show()"
      ],
      "metadata": {
        "colab": {
          "base_uri": "https://localhost:8080/",
          "height": 542
        },
        "id": "RjRvou5mB5g8",
        "outputId": "a66e0a59-f19d-4c71-d930-82d7455499a9"
      },
      "execution_count": 62,
      "outputs": [
        {
          "output_type": "display_data",
          "data": {
            "text/html": [
              "<html>\n",
              "<head><meta charset=\"utf-8\" /></head>\n",
              "<body>\n",
              "    <div>            <script src=\"https://cdnjs.cloudflare.com/ajax/libs/mathjax/2.7.5/MathJax.js?config=TeX-AMS-MML_SVG\"></script><script type=\"text/javascript\">if (window.MathJax && window.MathJax.Hub && window.MathJax.Hub.Config) {window.MathJax.Hub.Config({SVG: {font: \"STIX-Web\"}});}</script>                <script type=\"text/javascript\">window.PlotlyConfig = {MathJaxConfig: 'local'};</script>\n",
              "        <script charset=\"utf-8\" src=\"https://cdn.plot.ly/plotly-2.35.2.min.js\"></script>                <div id=\"22c5f903-a969-47ff-9f23-057dffac35e2\" class=\"plotly-graph-div\" style=\"height:525px; width:100%;\"></div>            <script type=\"text/javascript\">                                    window.PLOTLYENV=window.PLOTLYENV || {};                                    if (document.getElementById(\"22c5f903-a969-47ff-9f23-057dffac35e2\")) {                    Plotly.newPlot(                        \"22c5f903-a969-47ff-9f23-057dffac35e2\",                        [{\"hovertemplate\":\"color=A\\u003cbr\\u003ex=%{x}\\u003cbr\\u003ey=%{y}\\u003cbr\\u003ez=%{z}\\u003cextra\\u003e\\u003c\\u002fextra\\u003e\",\"legendgroup\":\"A\",\"marker\":{\"color\":\"#636efa\",\"symbol\":\"circle\"},\"mode\":\"markers\",\"name\":\"A\",\"scene\":\"scene\",\"showlegend\":true,\"x\":[0.4967141530112327,0.6476885381006925,1.5230298564080254,-0.23413695694918055,-0.4694743859349521,0.24196227156603412,-1.913280244657798,-0.5622875292409727,0.3142473325952739,-1.4123037013352915,-0.22577630048653566,0.06752820468792384,-0.5443827245251827,-1.1509935774223028,-0.2916937497932768,-0.6017066122293969,1.8522781845089378,-1.0577109289559004,0.7384665799954104,0.1713682811899705,-0.3011036955892888,-0.7198442083947086,-0.4606387709597875,0.3436182895684614,0.324083969394795,-0.38508228041631654,0.33126343140356396,-0.18565897666381712,-0.07201012158033385,-0.6451197546051243,0.36139560550841393,-2.6197451040897444,0.08704706823817122,0.3571125715117464,1.477894044741516,-0.5182702182736474,0.9154021177020741,0.32875110965968446,0.5132674331133561,-0.7020530938773524,-0.3276621465977682,0.26105527217988933],\"y\":[-1.4153707420504142,-0.3427145165267695,-0.8022772692216189,0.4040508568145384,0.25755039072276437,0.06023020994102644,2.463242112485286,0.30154734233361247,-1.168678037619532,0.7519330326867741,-0.9093874547947389,1.4027943109360992,0.5868570938002703,-0.9905363251306883,-0.5034756541161992,-1.5506634310661327,0.06856297480602733,0.4735924306351816,0.22745993460412942,1.307142754282428,0.1846338585323042,0.7818228717773104,-1.236950710878082,0.5219415656168976,0.25049285034587654,0.3464482094969757,-1.1913034972026486,0.787084603742452,0.82206015999449,-0.7537361643574896,-0.8895144296255233,0.27669079933001905,0.01300189187790702,-0.8571575564162826,-1.0708924980611123,0.4824724152431853,0.47323762457354485,-0.07282891265687277,-1.5148472246858646,0.21409374413020396,-1.245738778711988,0.1537251059455279],\"z\":[0.3577873603482833,1.083051243175277,1.053802052034903,-0.9378250399151228,0.5150476863060479,0.9540017634932023,0.651391251305798,0.7589692204932674,-0.23681860674000887,0.08187413938632256,-1.867265192591748,0.6862601903745135,-0.47193186578943347,0.06428001909546277,0.6795977489346758,-0.7303666317171367,0.21645858958197486,-0.6516003476058171,-0.7925207384327007,-0.11473644146689901,0.8657551941701215,-0.3345012358409484,-0.4749453111609562,1.7654542402810969,-1.2608839543350452,0.9178619470547761,0.44381942814622843,-0.05952535606180008,1.6324113039316352,0.13074057728609134,1.4412732890661155,-0.9815086510479509,0.19905969557347003,0.6621306745210467,1.586016816145352,-1.237815498826849,-0.15178509503558332,0.5883172064845765,-0.6226995198205938,-0.5893647569442115,0.8496020970210246,0.30729952087660933],\"type\":\"scatter3d\"},{\"hovertemplate\":\"color=B\\u003cbr\\u003ex=%{x}\\u003cbr\\u003ey=%{y}\\u003cbr\\u003ez=%{z}\\u003cextra\\u003e\\u003c\\u002fextra\\u003e\",\"legendgroup\":\"B\",\"marker\":{\"color\":\"#EF553B\",\"symbol\":\"circle\"},\"mode\":\"markers\",\"name\":\"B\",\"scene\":\"scene\",\"showlegend\":true,\"x\":[-0.13826430117118466,0.7674347291529088,-0.46572975357025687,1.465648768921554,-1.4247481862134568,0.11092258970986608,-1.2208436499710222,-1.3281860488984305,-0.6769220003059587,0.6116762888408679,0.9312801191161986,-0.3092123758512146,0.812525822394198,1.0035328978920242,0.36163602504763415,1.5380365664659692,1.5646436558140062,0.8219025043752238,-0.29900735046586746,-1.9875689146008928,-0.21967188783751193,-0.8084936028931876,-0.5297602037670388,-0.39210815313215763,0.00511345664246089],\"y\":[-0.42064532276535904,0.17457781283183896,-0.026513875449216878,0.7910319470430469,-1.4018510627922809,2.1904556258099785,1.5499344050175394,0.8135172173696698,-0.6800247215784908,0.23225369716100355,-0.7143514180263678,0.4738329209117875,0.9633761292443218,1.8967929826539474,-0.2453881160028705,-0.8158102849654383,0.3411519748166439,0.8271832490360238,1.4535340771573169,2.720169166589619,0.6256673477650062,-0.2234627853258509,-0.846793718068405,0.173180925851182,0.058208718445999896],\"z\":[0.5607845263682344,0.5137859509122088,1.135565640180599,2.3146585666735087,-1.6127158711896517,1.088950596967366,0.6339190223180112,-0.661786464768388,2.1221561970126332,1.0324652605511468,-0.48423407286625136,-0.7076694656187807,-0.2525681513931603,-1.4301413779606327,-0.44004448669698376,-1.4358621511794394,0.010233061019587049,0.46210347426327075,-0.6002168771587947,-0.3853135968617602,0.11351734525124804,2.1330333746562666,0.28099186773503265,0.35701548596504734,0.8128621188389601],\"type\":\"scatter3d\"},{\"hovertemplate\":\"color=C\\u003cbr\\u003ex=%{x}\\u003cbr\\u003ey=%{y}\\u003cbr\\u003ez=%{z}\\u003cextra\\u003e\\u003c\\u002fextra\\u003e\",\"legendgroup\":\"C\",\"marker\":{\"color\":\"#00cc96\",\"symbol\":\"circle\"},\"mode\":\"markers\",\"name\":\"C\",\"scene\":\"scene\",\"showlegend\":true,\"x\":[-0.23415337472333597,1.5792128155073915,0.5425600435859647,-0.46341769281246226,-1.7249178325130328,-1.0128311203344238,-0.9080240755212109,0.37569801834567196,-0.600638689918805,-0.013497224737933921,0.822544912103189,0.2088635950047554,-1.9596701238797756,0.19686123586912352,-0.11564828238824053,-1.4785219903674274,1.0571222262189157,-1.763040155362734,1.030999522495951,-0.8392175232226385,0.9755451271223592,-0.47917423784528995,-1.1063349740060282,-1.1962066240806708,1.356240028570823,-0.03582603910995154,0.0917607765355023,-0.5017570435845365,0.09707754934804039,0.9686449905328892,-1.4635149481321186,0.29612027706457605,-0.23458713337514692],\"y\":[-0.16128571166600914,1.8861859012105302,-0.07444591576616721,-1.9187712152990415,-0.19236096478112252,-0.03471176970524331,1.1428228145150205,-0.5662977296027719,0.09965136508764122,-1.0623037137261049,-0.9194242342338032,-0.7832532923362371,-0.3220615162056756,-1.2308643164339552,-1.6074832345612275,0.25988279424842353,-1.3204566130842763,0.29698467323318606,0.29307247329868125,1.8657745111447566,0.6565536086338297,-0.9746816702273214,1.158595579007404,-0.8206823183517105,0.4127809269364983,-0.0771017094141042,-0.2646568332379561,0.714000494092092,-0.4465149520670211,0.8563987943234723,0.3853173797288368,-0.883857436201133,-1.142970297830623],\"z\":[-1.377669367957091,0.5150352672086598,3.852731490654721,0.570890510693167,-0.3152692446403456,-0.7728252145375718,-0.48536354782910346,-1.0777447779293061,-0.7153037092599682,0.045571839903813784,2.1439440893253257,-2.025142586657607,0.18645431476942764,0.852433334796224,0.5049872789804571,-1.2002964070557762,-0.6533292325737119,0.40498171096095553,-1.5193699659540134,1.2669111491866227,0.7746340534293368,-0.926930471578083,-3.2412673400690726,-1.0243876413342898,-1.2477831819648495,1.1631637521549596,0.06980208499001891,-1.9520877995225019,-0.20812225035727522,-0.4930009346588328,-0.6929095952606542,0.8995998754332507,0.6296288419236122],\"type\":\"scatter3d\"}],                        {\"template\":{\"data\":{\"histogram2dcontour\":[{\"type\":\"histogram2dcontour\",\"colorbar\":{\"outlinewidth\":0,\"ticks\":\"\"},\"colorscale\":[[0.0,\"#0d0887\"],[0.1111111111111111,\"#46039f\"],[0.2222222222222222,\"#7201a8\"],[0.3333333333333333,\"#9c179e\"],[0.4444444444444444,\"#bd3786\"],[0.5555555555555556,\"#d8576b\"],[0.6666666666666666,\"#ed7953\"],[0.7777777777777778,\"#fb9f3a\"],[0.8888888888888888,\"#fdca26\"],[1.0,\"#f0f921\"]]}],\"choropleth\":[{\"type\":\"choropleth\",\"colorbar\":{\"outlinewidth\":0,\"ticks\":\"\"}}],\"histogram2d\":[{\"type\":\"histogram2d\",\"colorbar\":{\"outlinewidth\":0,\"ticks\":\"\"},\"colorscale\":[[0.0,\"#0d0887\"],[0.1111111111111111,\"#46039f\"],[0.2222222222222222,\"#7201a8\"],[0.3333333333333333,\"#9c179e\"],[0.4444444444444444,\"#bd3786\"],[0.5555555555555556,\"#d8576b\"],[0.6666666666666666,\"#ed7953\"],[0.7777777777777778,\"#fb9f3a\"],[0.8888888888888888,\"#fdca26\"],[1.0,\"#f0f921\"]]}],\"heatmap\":[{\"type\":\"heatmap\",\"colorbar\":{\"outlinewidth\":0,\"ticks\":\"\"},\"colorscale\":[[0.0,\"#0d0887\"],[0.1111111111111111,\"#46039f\"],[0.2222222222222222,\"#7201a8\"],[0.3333333333333333,\"#9c179e\"],[0.4444444444444444,\"#bd3786\"],[0.5555555555555556,\"#d8576b\"],[0.6666666666666666,\"#ed7953\"],[0.7777777777777778,\"#fb9f3a\"],[0.8888888888888888,\"#fdca26\"],[1.0,\"#f0f921\"]]}],\"heatmapgl\":[{\"type\":\"heatmapgl\",\"colorbar\":{\"outlinewidth\":0,\"ticks\":\"\"},\"colorscale\":[[0.0,\"#0d0887\"],[0.1111111111111111,\"#46039f\"],[0.2222222222222222,\"#7201a8\"],[0.3333333333333333,\"#9c179e\"],[0.4444444444444444,\"#bd3786\"],[0.5555555555555556,\"#d8576b\"],[0.6666666666666666,\"#ed7953\"],[0.7777777777777778,\"#fb9f3a\"],[0.8888888888888888,\"#fdca26\"],[1.0,\"#f0f921\"]]}],\"contourcarpet\":[{\"type\":\"contourcarpet\",\"colorbar\":{\"outlinewidth\":0,\"ticks\":\"\"}}],\"contour\":[{\"type\":\"contour\",\"colorbar\":{\"outlinewidth\":0,\"ticks\":\"\"},\"colorscale\":[[0.0,\"#0d0887\"],[0.1111111111111111,\"#46039f\"],[0.2222222222222222,\"#7201a8\"],[0.3333333333333333,\"#9c179e\"],[0.4444444444444444,\"#bd3786\"],[0.5555555555555556,\"#d8576b\"],[0.6666666666666666,\"#ed7953\"],[0.7777777777777778,\"#fb9f3a\"],[0.8888888888888888,\"#fdca26\"],[1.0,\"#f0f921\"]]}],\"surface\":[{\"type\":\"surface\",\"colorbar\":{\"outlinewidth\":0,\"ticks\":\"\"},\"colorscale\":[[0.0,\"#0d0887\"],[0.1111111111111111,\"#46039f\"],[0.2222222222222222,\"#7201a8\"],[0.3333333333333333,\"#9c179e\"],[0.4444444444444444,\"#bd3786\"],[0.5555555555555556,\"#d8576b\"],[0.6666666666666666,\"#ed7953\"],[0.7777777777777778,\"#fb9f3a\"],[0.8888888888888888,\"#fdca26\"],[1.0,\"#f0f921\"]]}],\"mesh3d\":[{\"type\":\"mesh3d\",\"colorbar\":{\"outlinewidth\":0,\"ticks\":\"\"}}],\"scatter\":[{\"fillpattern\":{\"fillmode\":\"overlay\",\"size\":10,\"solidity\":0.2},\"type\":\"scatter\"}],\"parcoords\":[{\"type\":\"parcoords\",\"line\":{\"colorbar\":{\"outlinewidth\":0,\"ticks\":\"\"}}}],\"scatterpolargl\":[{\"type\":\"scatterpolargl\",\"marker\":{\"colorbar\":{\"outlinewidth\":0,\"ticks\":\"\"}}}],\"bar\":[{\"error_x\":{\"color\":\"#2a3f5f\"},\"error_y\":{\"color\":\"#2a3f5f\"},\"marker\":{\"line\":{\"color\":\"#E5ECF6\",\"width\":0.5},\"pattern\":{\"fillmode\":\"overlay\",\"size\":10,\"solidity\":0.2}},\"type\":\"bar\"}],\"scattergeo\":[{\"type\":\"scattergeo\",\"marker\":{\"colorbar\":{\"outlinewidth\":0,\"ticks\":\"\"}}}],\"scatterpolar\":[{\"type\":\"scatterpolar\",\"marker\":{\"colorbar\":{\"outlinewidth\":0,\"ticks\":\"\"}}}],\"histogram\":[{\"marker\":{\"pattern\":{\"fillmode\":\"overlay\",\"size\":10,\"solidity\":0.2}},\"type\":\"histogram\"}],\"scattergl\":[{\"type\":\"scattergl\",\"marker\":{\"colorbar\":{\"outlinewidth\":0,\"ticks\":\"\"}}}],\"scatter3d\":[{\"type\":\"scatter3d\",\"line\":{\"colorbar\":{\"outlinewidth\":0,\"ticks\":\"\"}},\"marker\":{\"colorbar\":{\"outlinewidth\":0,\"ticks\":\"\"}}}],\"scattermapbox\":[{\"type\":\"scattermapbox\",\"marker\":{\"colorbar\":{\"outlinewidth\":0,\"ticks\":\"\"}}}],\"scatterternary\":[{\"type\":\"scatterternary\",\"marker\":{\"colorbar\":{\"outlinewidth\":0,\"ticks\":\"\"}}}],\"scattercarpet\":[{\"type\":\"scattercarpet\",\"marker\":{\"colorbar\":{\"outlinewidth\":0,\"ticks\":\"\"}}}],\"carpet\":[{\"aaxis\":{\"endlinecolor\":\"#2a3f5f\",\"gridcolor\":\"white\",\"linecolor\":\"white\",\"minorgridcolor\":\"white\",\"startlinecolor\":\"#2a3f5f\"},\"baxis\":{\"endlinecolor\":\"#2a3f5f\",\"gridcolor\":\"white\",\"linecolor\":\"white\",\"minorgridcolor\":\"white\",\"startlinecolor\":\"#2a3f5f\"},\"type\":\"carpet\"}],\"table\":[{\"cells\":{\"fill\":{\"color\":\"#EBF0F8\"},\"line\":{\"color\":\"white\"}},\"header\":{\"fill\":{\"color\":\"#C8D4E3\"},\"line\":{\"color\":\"white\"}},\"type\":\"table\"}],\"barpolar\":[{\"marker\":{\"line\":{\"color\":\"#E5ECF6\",\"width\":0.5},\"pattern\":{\"fillmode\":\"overlay\",\"size\":10,\"solidity\":0.2}},\"type\":\"barpolar\"}],\"pie\":[{\"automargin\":true,\"type\":\"pie\"}]},\"layout\":{\"autotypenumbers\":\"strict\",\"colorway\":[\"#636efa\",\"#EF553B\",\"#00cc96\",\"#ab63fa\",\"#FFA15A\",\"#19d3f3\",\"#FF6692\",\"#B6E880\",\"#FF97FF\",\"#FECB52\"],\"font\":{\"color\":\"#2a3f5f\"},\"hovermode\":\"closest\",\"hoverlabel\":{\"align\":\"left\"},\"paper_bgcolor\":\"white\",\"plot_bgcolor\":\"#E5ECF6\",\"polar\":{\"bgcolor\":\"#E5ECF6\",\"angularaxis\":{\"gridcolor\":\"white\",\"linecolor\":\"white\",\"ticks\":\"\"},\"radialaxis\":{\"gridcolor\":\"white\",\"linecolor\":\"white\",\"ticks\":\"\"}},\"ternary\":{\"bgcolor\":\"#E5ECF6\",\"aaxis\":{\"gridcolor\":\"white\",\"linecolor\":\"white\",\"ticks\":\"\"},\"baxis\":{\"gridcolor\":\"white\",\"linecolor\":\"white\",\"ticks\":\"\"},\"caxis\":{\"gridcolor\":\"white\",\"linecolor\":\"white\",\"ticks\":\"\"}},\"coloraxis\":{\"colorbar\":{\"outlinewidth\":0,\"ticks\":\"\"}},\"colorscale\":{\"sequential\":[[0.0,\"#0d0887\"],[0.1111111111111111,\"#46039f\"],[0.2222222222222222,\"#7201a8\"],[0.3333333333333333,\"#9c179e\"],[0.4444444444444444,\"#bd3786\"],[0.5555555555555556,\"#d8576b\"],[0.6666666666666666,\"#ed7953\"],[0.7777777777777778,\"#fb9f3a\"],[0.8888888888888888,\"#fdca26\"],[1.0,\"#f0f921\"]],\"sequentialminus\":[[0.0,\"#0d0887\"],[0.1111111111111111,\"#46039f\"],[0.2222222222222222,\"#7201a8\"],[0.3333333333333333,\"#9c179e\"],[0.4444444444444444,\"#bd3786\"],[0.5555555555555556,\"#d8576b\"],[0.6666666666666666,\"#ed7953\"],[0.7777777777777778,\"#fb9f3a\"],[0.8888888888888888,\"#fdca26\"],[1.0,\"#f0f921\"]],\"diverging\":[[0,\"#8e0152\"],[0.1,\"#c51b7d\"],[0.2,\"#de77ae\"],[0.3,\"#f1b6da\"],[0.4,\"#fde0ef\"],[0.5,\"#f7f7f7\"],[0.6,\"#e6f5d0\"],[0.7,\"#b8e186\"],[0.8,\"#7fbc41\"],[0.9,\"#4d9221\"],[1,\"#276419\"]]},\"xaxis\":{\"gridcolor\":\"white\",\"linecolor\":\"white\",\"ticks\":\"\",\"title\":{\"standoff\":15},\"zerolinecolor\":\"white\",\"automargin\":true,\"zerolinewidth\":2},\"yaxis\":{\"gridcolor\":\"white\",\"linecolor\":\"white\",\"ticks\":\"\",\"title\":{\"standoff\":15},\"zerolinecolor\":\"white\",\"automargin\":true,\"zerolinewidth\":2},\"scene\":{\"xaxis\":{\"backgroundcolor\":\"#E5ECF6\",\"gridcolor\":\"white\",\"linecolor\":\"white\",\"showbackground\":true,\"ticks\":\"\",\"zerolinecolor\":\"white\",\"gridwidth\":2},\"yaxis\":{\"backgroundcolor\":\"#E5ECF6\",\"gridcolor\":\"white\",\"linecolor\":\"white\",\"showbackground\":true,\"ticks\":\"\",\"zerolinecolor\":\"white\",\"gridwidth\":2},\"zaxis\":{\"backgroundcolor\":\"#E5ECF6\",\"gridcolor\":\"white\",\"linecolor\":\"white\",\"showbackground\":true,\"ticks\":\"\",\"zerolinecolor\":\"white\",\"gridwidth\":2}},\"shapedefaults\":{\"line\":{\"color\":\"#2a3f5f\"}},\"annotationdefaults\":{\"arrowcolor\":\"#2a3f5f\",\"arrowhead\":0,\"arrowwidth\":1},\"geo\":{\"bgcolor\":\"white\",\"landcolor\":\"#E5ECF6\",\"subunitcolor\":\"white\",\"showland\":true,\"showlakes\":true,\"lakecolor\":\"white\"},\"title\":{\"x\":0.05},\"mapbox\":{\"style\":\"light\"}}},\"scene\":{\"domain\":{\"x\":[0.0,1.0],\"y\":[0.0,1.0]},\"xaxis\":{\"title\":{\"text\":\"x\"}},\"yaxis\":{\"title\":{\"text\":\"y\"}},\"zaxis\":{\"title\":{\"text\":\"z\"}}},\"legend\":{\"title\":{\"text\":\"color\"},\"tracegroupgap\":0},\"title\":{\"text\":\"3d scatter plot with plotly\"}},                        {\"responsive\": true}                    ).then(function(){\n",
              "                            \n",
              "var gd = document.getElementById('22c5f903-a969-47ff-9f23-057dffac35e2');\n",
              "var x = new MutationObserver(function (mutations, observer) {{\n",
              "        var display = window.getComputedStyle(gd).display;\n",
              "        if (!display || display === 'none') {{\n",
              "            console.log([gd, 'removed!']);\n",
              "            Plotly.purge(gd);\n",
              "            observer.disconnect();\n",
              "        }}\n",
              "}});\n",
              "\n",
              "// Listen for the removal of the full notebook cells\n",
              "var notebookContainer = gd.closest('#notebook-container');\n",
              "if (notebookContainer) {{\n",
              "    x.observe(notebookContainer, {childList: true});\n",
              "}}\n",
              "\n",
              "// Listen for the clearing of the current output cell\n",
              "var outputEl = gd.closest('.output');\n",
              "if (outputEl) {{\n",
              "    x.observe(outputEl, {childList: true});\n",
              "}}\n",
              "\n",
              "                        })                };                            </script>        </div>\n",
              "</body>\n",
              "</html>"
            ]
          },
          "metadata": {}
        }
      ]
    }
  ]
}